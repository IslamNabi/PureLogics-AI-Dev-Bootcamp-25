{
 "cells": [
  {
   "cell_type": "markdown",
   "id": "pANDTPmOAIzG",
   "metadata": {
    "id": "pANDTPmOAIzG"
   },
   "source": [
    "## 📊 What is Cross-Validation Score?\n",
    "\n",
    "**Cross-validation score** refers to the performance metric(s) you get when evaluating a model using cross-validation rather than a single train/test split. In `scikit-learn`, the helper function `cross_val_score()` automates this process.\n",
    "\n",
    "---\n",
    "\n",
    "###  K-Fold Splitting\n",
    "- Your dataset is split into **K** equally (or nearly equally) sized **folds**.\n",
    "- For each of the **K** iterations:\n",
    "  - One fold is held out as the **validation set**.\n",
    "  - The model is trained on the remaining **K – 1** folds.\n",
    "\n",
    "---\n",
    "\n",
    "### Model Evaluation\n",
    "- After training, the model is scored on the validation fold using your chosen metric (e.g., R², mean squared error, accuracy).\n",
    "- This process repeats for each fold, producing **K separate scores**.\n",
    "\n",
    "---\n",
    "\n",
    "###  Aggregating Results\n",
    "- `cross_val_score()` returns an array of the **K scores**.\n",
    "- You typically compute:\n",
    "  - The **mean score**: to estimate overall model performance.\n",
    "  - The **standard deviation**: to assess score variability across folds.\n",
    "\n",
    "---\n",
    "\n",
    "This method provides a more reliable measure of model performance and helps detect overfitting or instability due to random splits.\n"
   ]
  },
  {
   "cell_type": "code",
   "execution_count": 1,
   "id": "f70cb6e9-3118-4787-a884-6a55eb3b21ff",
   "metadata": {
    "id": "f70cb6e9-3118-4787-a884-6a55eb3b21ff"
   },
   "outputs": [],
   "source": [
    "from sklearn import datasets\n",
    "from sklearn.linear_model import LogisticRegression\n",
    "from sklearn.ensemble import RandomForestClassifier\n",
    "from sklearn.svm import SVC\n",
    "from sklearn.model_selection import cross_val_score"
   ]
  },
  {
   "cell_type": "markdown",
   "id": "OR3kC676AuBi",
   "metadata": {
    "id": "OR3kC676AuBi"
   },
   "source": [
    "##Load the iris dataset from Sklearn Datasets"
   ]
  },
  {
   "cell_type": "code",
   "execution_count": 2,
   "id": "S4nQhS13AG-7",
   "metadata": {
    "id": "S4nQhS13AG-7"
   },
   "outputs": [],
   "source": [
    "iris = datasets.load_iris()"
   ]
  },
  {
   "cell_type": "markdown",
   "id": "KU1svNNyA5v_",
   "metadata": {
    "id": "KU1svNNyA5v_"
   },
   "source": [
    "##Explore the Structure of the Digits Dataset"
   ]
  },
  {
   "cell_type": "code",
   "execution_count": 3,
   "id": "2d89602a-6cca-41b5-bf92-460b55baec7f",
   "metadata": {
    "id": "2d89602a-6cca-41b5-bf92-460b55baec7f"
   },
   "outputs": [
    {
     "data": {
      "text/plain": [
       "['DESCR',\n",
       " 'data',\n",
       " 'data_module',\n",
       " 'feature_names',\n",
       " 'filename',\n",
       " 'frame',\n",
       " 'target',\n",
       " 'target_names']"
      ]
     },
     "execution_count": 3,
     "metadata": {},
     "output_type": "execute_result"
    }
   ],
   "source": [
    "dir(iris)"
   ]
  },
  {
   "cell_type": "markdown",
   "id": "J5qoRd1sA7bw",
   "metadata": {
    "id": "J5qoRd1sA7bw"
   },
   "source": [
    "## 🌳 Cross-Validation with Random Forest Classifier\n",
    "\n",
    "In this step, we use `cross_val_score()` to evaluate a `RandomForestClassifier` with 35 decision trees (`n_estimators=35`) on the Iris dataset.\n",
    "Performed `5 fold cross Validation` and used the `R^2` scoring method.\n",
    "This method splits the data into multiple folds and returns accuracy scores for each fold.\n"
   ]
  },
  {
   "cell_type": "code",
   "execution_count": 4,
   "id": "5ab8904b-50d0-4ce0-8a3c-1fdee699ed4f",
   "metadata": {
    "id": "5ab8904b-50d0-4ce0-8a3c-1fdee699ed4f"
   },
   "outputs": [],
   "source": [
    "rf = cross_val_score(RandomForestClassifier(n_estimators=35),iris.data, iris.target,cv=5, scoring='r2')\n"
   ]
  },
  {
   "cell_type": "code",
   "execution_count": 5,
   "id": "E5Xim95OBv9F",
   "metadata": {
    "id": "E5Xim95OBv9F"
   },
   "outputs": [
    {
     "name": "stdout",
     "output_type": "stream",
     "text": [
      "Fold-wise scores: [0.95 0.95 0.9  0.85 1.  ]\n",
      "Average accuracy: 0.93\n"
     ]
    }
   ],
   "source": [
    "print(\"Fold-wise scores:\", rf)\n",
    "print(\"Average accuracy:\", rf.mean())"
   ]
  },
  {
   "cell_type": "markdown",
   "id": "YBkbN4ikBt7T",
   "metadata": {
    "id": "YBkbN4ikBt7T"
   },
   "source": [
    "## 🧪 Cross-Validation with Support Vector Classifier (SVC)\n",
    "\n",
    "Here, we evaluate an `SVC` (Support Vector Classifier) on the Iris dataset using `cross_val_score()`.\n",
    "\n",
    "This approach splits the data into multiple folds (by default 5) and trains/tests the model across each fold to assess its generalization performance.\n",
    "\n",
    "Below, we print the accuracy scores for each fold.\n"
   ]
  },
  {
   "cell_type": "code",
   "execution_count": 6,
   "id": "4b952288-a807-4c43-bf39-fc9264ccc1e1",
   "metadata": {
    "id": "4b952288-a807-4c43-bf39-fc9264ccc1e1"
   },
   "outputs": [],
   "source": [
    "svm = cross_val_score(SVC(),iris.data, iris.target, scoring='r2')\n"
   ]
  },
  {
   "cell_type": "code",
   "execution_count": 7,
   "id": "qbjh2zTqB30d",
   "metadata": {
    "id": "qbjh2zTqB30d"
   },
   "outputs": [
    {
     "name": "stdout",
     "output_type": "stream",
     "text": [
      "Fold-wise scores: [0.95 0.95 0.95 0.9  1.  ]\n",
      "Average accuracy: 0.95\n"
     ]
    }
   ],
   "source": [
    "print(\"Fold-wise scores:\", svm)\n",
    "print(\"Average accuracy:\", svm.mean())"
   ]
  },
  {
   "cell_type": "markdown",
   "id": "6TL-G3gXB8Ds",
   "metadata": {
    "id": "6TL-G3gXB8Ds"
   },
   "source": [
    "## 📦 Cross-Validation with Logistic Regression\n",
    "\n",
    "In this section, we evaluate a `LogisticRegression` model on the Iris dataset using `cross_val_score()`.\n",
    "\n",
    "Since logistic regression may require multiple iterations to converge on some datasets, we specify `max_iter=150` to ensure convergence.\n",
    "\n",
    "The result is a list of accuracy scores from each fold, providing a more robust measure of model performance.\n"
   ]
  },
  {
   "cell_type": "code",
   "execution_count": 8,
   "id": "5b4c44af-9271-49b5-a7ad-6b0991e57613",
   "metadata": {
    "id": "5b4c44af-9271-49b5-a7ad-6b0991e57613"
   },
   "outputs": [],
   "source": [
    "lr = cross_val_score(LogisticRegression(max_iter=150),iris.data, iris.target, cv=5, scoring='r2')\n"
   ]
  },
  {
   "cell_type": "code",
   "execution_count": 10,
   "id": "0f6287f2-6ae7-4db8-a85e-56676cf6b313",
   "metadata": {
    "id": "0f6287f2-6ae7-4db8-a85e-56676cf6b313"
   },
   "outputs": [
    {
     "name": "stdout",
     "output_type": "stream",
     "text": [
      "Fold-wise scores: [0.95 1.   0.9  0.95 1.  ]\n",
      "Average accuracy: 0.96\n"
     ]
    }
   ],
   "source": [
    "print(\"Fold-wise scores:\", lr)\n",
    "print(\"Average accuracy:\", lr.mean())"
   ]
  },
  {
   "cell_type": "markdown",
   "id": "y6XQB1tbMftx",
   "metadata": {
    "id": "y6XQB1tbMftx"
   },
   "source": [
    "So it seems like Logistic Regression got the highest mean accuracy of above all models."
   ]
  }
 ],
 "metadata": {
  "colab": {
   "provenance": []
  },
  "kernelspec": {
   "display_name": "Python 3",
   "language": "python",
   "name": "python3"
  },
  "language_info": {
   "codemirror_mode": {
    "name": "ipython",
    "version": 3
   },
   "file_extension": ".py",
   "mimetype": "text/x-python",
   "name": "python",
   "nbconvert_exporter": "python",
   "pygments_lexer": "ipython3",
   "version": "3.12.3"
  }
 },
 "nbformat": 4,
 "nbformat_minor": 5
}
