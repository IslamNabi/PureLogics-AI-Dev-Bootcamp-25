{
 "cells": [
  {
   "cell_type": "markdown",
   "id": "hewxDB4zHgev",
   "metadata": {
    "id": "hewxDB4zHgev"
   },
   "source": [
    "#K-Means Clustering (Unsupervised Learning)"
   ]
  },
  {
   "cell_type": "code",
   "execution_count": 1,
   "id": "261b0e0a-5aab-4e11-b800-4ad445575251",
   "metadata": {
    "id": "261b0e0a-5aab-4e11-b800-4ad445575251"
   },
   "outputs": [],
   "source": [
    "import matplotlib.pyplot as plt\n",
    "from sklearn.preprocessing import MinMaxScaler\n",
    "from sklearn.cluster import KMeans\n",
    "from sklearn.datasets import load_iris\n",
    "import pandas as pd"
   ]
  },
  {
   "cell_type": "markdown",
   "id": "BbOXy5TOHmYD",
   "metadata": {
    "id": "BbOXy5TOHmYD"
   },
   "source": [
    "##Load dataset"
   ]
  },
  {
   "cell_type": "code",
   "execution_count": 2,
   "id": "N2kRwtaQRu_v",
   "metadata": {
    "id": "N2kRwtaQRu_v"
   },
   "outputs": [],
   "source": [
    "iris = load_iris()"
   ]
  },
  {
   "cell_type": "code",
   "execution_count": 3,
   "id": "a0cd0896-c53f-4f69-91b1-ff6ff9648c10",
   "metadata": {
    "id": "a0cd0896-c53f-4f69-91b1-ff6ff9648c10"
   },
   "outputs": [
    {
     "data": {
      "text/plain": [
       "['DESCR',\n",
       " 'data',\n",
       " 'data_module',\n",
       " 'feature_names',\n",
       " 'filename',\n",
       " 'frame',\n",
       " 'target',\n",
       " 'target_names']"
      ]
     },
     "execution_count": 3,
     "metadata": {},
     "output_type": "execute_result"
    }
   ],
   "source": [
    "dir(iris)"
   ]
  },
  {
   "cell_type": "code",
   "execution_count": 4,
   "id": "4d304da1-90cb-42bf-8acd-b62c288b358c",
   "metadata": {
    "id": "4d304da1-90cb-42bf-8acd-b62c288b358c"
   },
   "outputs": [
    {
     "data": {
      "text/plain": [
       "['sepal length (cm)',\n",
       " 'sepal width (cm)',\n",
       " 'petal length (cm)',\n",
       " 'petal width (cm)']"
      ]
     },
     "execution_count": 4,
     "metadata": {},
     "output_type": "execute_result"
    }
   ],
   "source": [
    "iris.feature_names"
   ]
  },
  {
   "cell_type": "markdown",
   "id": "IB5WHtkPHr8U",
   "metadata": {
    "id": "IB5WHtkPHr8U"
   },
   "source": [
    "##Convert to dataframe"
   ]
  },
  {
   "cell_type": "code",
   "execution_count": 5,
   "id": "f287f554-643b-4ee2-b9d0-c67981f6ad0a",
   "metadata": {
    "id": "f287f554-643b-4ee2-b9d0-c67981f6ad0a"
   },
   "outputs": [
    {
     "data": {
      "text/html": [
       "<div>\n",
       "<style scoped>\n",
       "    .dataframe tbody tr th:only-of-type {\n",
       "        vertical-align: middle;\n",
       "    }\n",
       "\n",
       "    .dataframe tbody tr th {\n",
       "        vertical-align: top;\n",
       "    }\n",
       "\n",
       "    .dataframe thead th {\n",
       "        text-align: right;\n",
       "    }\n",
       "</style>\n",
       "<table border=\"1\" class=\"dataframe\">\n",
       "  <thead>\n",
       "    <tr style=\"text-align: right;\">\n",
       "      <th></th>\n",
       "      <th>0</th>\n",
       "      <th>1</th>\n",
       "      <th>2</th>\n",
       "      <th>3</th>\n",
       "    </tr>\n",
       "  </thead>\n",
       "  <tbody>\n",
       "    <tr>\n",
       "      <th>0</th>\n",
       "      <td>5.1</td>\n",
       "      <td>3.5</td>\n",
       "      <td>1.4</td>\n",
       "      <td>0.2</td>\n",
       "    </tr>\n",
       "    <tr>\n",
       "      <th>1</th>\n",
       "      <td>4.9</td>\n",
       "      <td>3.0</td>\n",
       "      <td>1.4</td>\n",
       "      <td>0.2</td>\n",
       "    </tr>\n",
       "    <tr>\n",
       "      <th>2</th>\n",
       "      <td>4.7</td>\n",
       "      <td>3.2</td>\n",
       "      <td>1.3</td>\n",
       "      <td>0.2</td>\n",
       "    </tr>\n",
       "    <tr>\n",
       "      <th>3</th>\n",
       "      <td>4.6</td>\n",
       "      <td>3.1</td>\n",
       "      <td>1.5</td>\n",
       "      <td>0.2</td>\n",
       "    </tr>\n",
       "    <tr>\n",
       "      <th>4</th>\n",
       "      <td>5.0</td>\n",
       "      <td>3.6</td>\n",
       "      <td>1.4</td>\n",
       "      <td>0.2</td>\n",
       "    </tr>\n",
       "    <tr>\n",
       "      <th>...</th>\n",
       "      <td>...</td>\n",
       "      <td>...</td>\n",
       "      <td>...</td>\n",
       "      <td>...</td>\n",
       "    </tr>\n",
       "    <tr>\n",
       "      <th>145</th>\n",
       "      <td>6.7</td>\n",
       "      <td>3.0</td>\n",
       "      <td>5.2</td>\n",
       "      <td>2.3</td>\n",
       "    </tr>\n",
       "    <tr>\n",
       "      <th>146</th>\n",
       "      <td>6.3</td>\n",
       "      <td>2.5</td>\n",
       "      <td>5.0</td>\n",
       "      <td>1.9</td>\n",
       "    </tr>\n",
       "    <tr>\n",
       "      <th>147</th>\n",
       "      <td>6.5</td>\n",
       "      <td>3.0</td>\n",
       "      <td>5.2</td>\n",
       "      <td>2.0</td>\n",
       "    </tr>\n",
       "    <tr>\n",
       "      <th>148</th>\n",
       "      <td>6.2</td>\n",
       "      <td>3.4</td>\n",
       "      <td>5.4</td>\n",
       "      <td>2.3</td>\n",
       "    </tr>\n",
       "    <tr>\n",
       "      <th>149</th>\n",
       "      <td>5.9</td>\n",
       "      <td>3.0</td>\n",
       "      <td>5.1</td>\n",
       "      <td>1.8</td>\n",
       "    </tr>\n",
       "  </tbody>\n",
       "</table>\n",
       "<p>150 rows × 4 columns</p>\n",
       "</div>"
      ],
      "text/plain": [
       "       0    1    2    3\n",
       "0    5.1  3.5  1.4  0.2\n",
       "1    4.9  3.0  1.4  0.2\n",
       "2    4.7  3.2  1.3  0.2\n",
       "3    4.6  3.1  1.5  0.2\n",
       "4    5.0  3.6  1.4  0.2\n",
       "..   ...  ...  ...  ...\n",
       "145  6.7  3.0  5.2  2.3\n",
       "146  6.3  2.5  5.0  1.9\n",
       "147  6.5  3.0  5.2  2.0\n",
       "148  6.2  3.4  5.4  2.3\n",
       "149  5.9  3.0  5.1  1.8\n",
       "\n",
       "[150 rows x 4 columns]"
      ]
     },
     "execution_count": 5,
     "metadata": {},
     "output_type": "execute_result"
    }
   ],
   "source": [
    "df = pd.DataFrame(iris.data)\n",
    "df"
   ]
  },
  {
   "cell_type": "markdown",
   "id": "QoB5bKwwH4nw",
   "metadata": {
    "id": "QoB5bKwwH4nw"
   },
   "source": [
    "##Let's use two columns"
   ]
  },
  {
   "cell_type": "code",
   "execution_count": 6,
   "id": "38cca186-1c46-4156-b90f-89e039244c77",
   "metadata": {
    "id": "38cca186-1c46-4156-b90f-89e039244c77"
   },
   "outputs": [],
   "source": [
    "df = df.drop([0,1],axis='columns')"
   ]
  },
  {
   "cell_type": "code",
   "execution_count": 7,
   "id": "27cb32f8-1a4f-4602-bab7-a7790e60c90e",
   "metadata": {
    "id": "27cb32f8-1a4f-4602-bab7-a7790e60c90e"
   },
   "outputs": [
    {
     "data": {
      "text/html": [
       "<div>\n",
       "<style scoped>\n",
       "    .dataframe tbody tr th:only-of-type {\n",
       "        vertical-align: middle;\n",
       "    }\n",
       "\n",
       "    .dataframe tbody tr th {\n",
       "        vertical-align: top;\n",
       "    }\n",
       "\n",
       "    .dataframe thead th {\n",
       "        text-align: right;\n",
       "    }\n",
       "</style>\n",
       "<table border=\"1\" class=\"dataframe\">\n",
       "  <thead>\n",
       "    <tr style=\"text-align: right;\">\n",
       "      <th></th>\n",
       "      <th>2</th>\n",
       "      <th>3</th>\n",
       "    </tr>\n",
       "  </thead>\n",
       "  <tbody>\n",
       "    <tr>\n",
       "      <th>0</th>\n",
       "      <td>1.4</td>\n",
       "      <td>0.2</td>\n",
       "    </tr>\n",
       "    <tr>\n",
       "      <th>1</th>\n",
       "      <td>1.4</td>\n",
       "      <td>0.2</td>\n",
       "    </tr>\n",
       "    <tr>\n",
       "      <th>2</th>\n",
       "      <td>1.3</td>\n",
       "      <td>0.2</td>\n",
       "    </tr>\n",
       "    <tr>\n",
       "      <th>3</th>\n",
       "      <td>1.5</td>\n",
       "      <td>0.2</td>\n",
       "    </tr>\n",
       "    <tr>\n",
       "      <th>4</th>\n",
       "      <td>1.4</td>\n",
       "      <td>0.2</td>\n",
       "    </tr>\n",
       "    <tr>\n",
       "      <th>...</th>\n",
       "      <td>...</td>\n",
       "      <td>...</td>\n",
       "    </tr>\n",
       "    <tr>\n",
       "      <th>145</th>\n",
       "      <td>5.2</td>\n",
       "      <td>2.3</td>\n",
       "    </tr>\n",
       "    <tr>\n",
       "      <th>146</th>\n",
       "      <td>5.0</td>\n",
       "      <td>1.9</td>\n",
       "    </tr>\n",
       "    <tr>\n",
       "      <th>147</th>\n",
       "      <td>5.2</td>\n",
       "      <td>2.0</td>\n",
       "    </tr>\n",
       "    <tr>\n",
       "      <th>148</th>\n",
       "      <td>5.4</td>\n",
       "      <td>2.3</td>\n",
       "    </tr>\n",
       "    <tr>\n",
       "      <th>149</th>\n",
       "      <td>5.1</td>\n",
       "      <td>1.8</td>\n",
       "    </tr>\n",
       "  </tbody>\n",
       "</table>\n",
       "<p>150 rows × 2 columns</p>\n",
       "</div>"
      ],
      "text/plain": [
       "       2    3\n",
       "0    1.4  0.2\n",
       "1    1.4  0.2\n",
       "2    1.3  0.2\n",
       "3    1.5  0.2\n",
       "4    1.4  0.2\n",
       "..   ...  ...\n",
       "145  5.2  2.3\n",
       "146  5.0  1.9\n",
       "147  5.2  2.0\n",
       "148  5.4  2.3\n",
       "149  5.1  1.8\n",
       "\n",
       "[150 rows x 2 columns]"
      ]
     },
     "execution_count": 7,
     "metadata": {},
     "output_type": "execute_result"
    }
   ],
   "source": [
    "df"
   ]
  },
  {
   "cell_type": "code",
   "execution_count": 8,
   "id": "645daeac-634d-49d3-9a83-c17d19b29c07",
   "metadata": {
    "id": "645daeac-634d-49d3-9a83-c17d19b29c07"
   },
   "outputs": [
    {
     "data": {
      "image/png": "[encoded data removed]",
      "text/plain": [
       "<Figure size 640x480 with 1 Axes>"
      ]
     },
     "metadata": {},
     "output_type": "display_data"
    }
   ],
   "source": [
    "plt.scatter(df[2], df[3] , color = 'red', marker = '+')\n",
    "plt.xlabel('Patel length (cm)')\n",
    "plt.ylabel('Patel width (cm)')\n",
    "plt.show()"
   ]
  },
  {
   "cell_type": "markdown",
   "id": "1m0Llq7nJ03a",
   "metadata": {
    "id": "1m0Llq7nJ03a"
   },
   "source": [
    "## 🔬 Scale a Single Feature Using MinMaxScaler\n",
    "\n",
    "In this step, we apply `MinMaxScaler` to scale a specific feature of the dataset.\n",
    "\n",
    "### 🧮 Why MinMaxScaler?\n",
    "- It scales values **between 0 and 1** (or a custom range).\n",
    "- Useful for algorithms that are sensitive to feature magnitude (e.g., KMeans, SVM, Neural Networks).\n"
   ]
  },
  {
   "cell_type": "code",
   "execution_count": 9,
   "id": "e8eff7a9-467a-4ea0-91cf-d7495d6f19e7",
   "metadata": {
    "id": "e8eff7a9-467a-4ea0-91cf-d7495d6f19e7"
   },
   "outputs": [
    {
     "data": {
      "text/html": [
       "<div>\n",
       "<style scoped>\n",
       "    .dataframe tbody tr th:only-of-type {\n",
       "        vertical-align: middle;\n",
       "    }\n",
       "\n",
       "    .dataframe tbody tr th {\n",
       "        vertical-align: top;\n",
       "    }\n",
       "\n",
       "    .dataframe thead th {\n",
       "        text-align: right;\n",
       "    }\n",
       "</style>\n",
       "<table border=\"1\" class=\"dataframe\">\n",
       "  <thead>\n",
       "    <tr style=\"text-align: right;\">\n",
       "      <th></th>\n",
       "      <th>2</th>\n",
       "      <th>3</th>\n",
       "    </tr>\n",
       "  </thead>\n",
       "  <tbody>\n",
       "    <tr>\n",
       "      <th>0</th>\n",
       "      <td>0.067797</td>\n",
       "      <td>0.2</td>\n",
       "    </tr>\n",
       "    <tr>\n",
       "      <th>1</th>\n",
       "      <td>0.067797</td>\n",
       "      <td>0.2</td>\n",
       "    </tr>\n",
       "    <tr>\n",
       "      <th>2</th>\n",
       "      <td>0.050847</td>\n",
       "      <td>0.2</td>\n",
       "    </tr>\n",
       "    <tr>\n",
       "      <th>3</th>\n",
       "      <td>0.084746</td>\n",
       "      <td>0.2</td>\n",
       "    </tr>\n",
       "    <tr>\n",
       "      <th>4</th>\n",
       "      <td>0.067797</td>\n",
       "      <td>0.2</td>\n",
       "    </tr>\n",
       "    <tr>\n",
       "      <th>...</th>\n",
       "      <td>...</td>\n",
       "      <td>...</td>\n",
       "    </tr>\n",
       "    <tr>\n",
       "      <th>145</th>\n",
       "      <td>0.711864</td>\n",
       "      <td>2.3</td>\n",
       "    </tr>\n",
       "    <tr>\n",
       "      <th>146</th>\n",
       "      <td>0.677966</td>\n",
       "      <td>1.9</td>\n",
       "    </tr>\n",
       "    <tr>\n",
       "      <th>147</th>\n",
       "      <td>0.711864</td>\n",
       "      <td>2.0</td>\n",
       "    </tr>\n",
       "    <tr>\n",
       "      <th>148</th>\n",
       "      <td>0.745763</td>\n",
       "      <td>2.3</td>\n",
       "    </tr>\n",
       "    <tr>\n",
       "      <th>149</th>\n",
       "      <td>0.694915</td>\n",
       "      <td>1.8</td>\n",
       "    </tr>\n",
       "  </tbody>\n",
       "</table>\n",
       "<p>150 rows × 2 columns</p>\n",
       "</div>"
      ],
      "text/plain": [
       "            2    3\n",
       "0    0.067797  0.2\n",
       "1    0.067797  0.2\n",
       "2    0.050847  0.2\n",
       "3    0.084746  0.2\n",
       "4    0.067797  0.2\n",
       "..        ...  ...\n",
       "145  0.711864  2.3\n",
       "146  0.677966  1.9\n",
       "147  0.711864  2.0\n",
       "148  0.745763  2.3\n",
       "149  0.694915  1.8\n",
       "\n",
       "[150 rows x 2 columns]"
      ]
     },
     "execution_count": 9,
     "metadata": {},
     "output_type": "execute_result"
    }
   ],
   "source": [
    "s_length = MinMaxScaler()\n",
    "s_length.fit(df[[2]])\n",
    "df[2] = s_length.transform(df[[2]])\n",
    "\n",
    "df"
   ]
  },
  {
   "cell_type": "code",
   "execution_count": 10,
   "id": "2dcdcb1b-aff4-4052-b33c-610c4b6771e8",
   "metadata": {
    "id": "2dcdcb1b-aff4-4052-b33c-610c4b6771e8"
   },
   "outputs": [
    {
     "data": {
      "text/html": [
       "<div>\n",
       "<style scoped>\n",
       "    .dataframe tbody tr th:only-of-type {\n",
       "        vertical-align: middle;\n",
       "    }\n",
       "\n",
       "    .dataframe tbody tr th {\n",
       "        vertical-align: top;\n",
       "    }\n",
       "\n",
       "    .dataframe thead th {\n",
       "        text-align: right;\n",
       "    }\n",
       "</style>\n",
       "<table border=\"1\" class=\"dataframe\">\n",
       "  <thead>\n",
       "    <tr style=\"text-align: right;\">\n",
       "      <th></th>\n",
       "      <th>2</th>\n",
       "      <th>3</th>\n",
       "    </tr>\n",
       "  </thead>\n",
       "  <tbody>\n",
       "    <tr>\n",
       "      <th>0</th>\n",
       "      <td>0.067797</td>\n",
       "      <td>0.041667</td>\n",
       "    </tr>\n",
       "    <tr>\n",
       "      <th>1</th>\n",
       "      <td>0.067797</td>\n",
       "      <td>0.041667</td>\n",
       "    </tr>\n",
       "    <tr>\n",
       "      <th>2</th>\n",
       "      <td>0.050847</td>\n",
       "      <td>0.041667</td>\n",
       "    </tr>\n",
       "    <tr>\n",
       "      <th>3</th>\n",
       "      <td>0.084746</td>\n",
       "      <td>0.041667</td>\n",
       "    </tr>\n",
       "    <tr>\n",
       "      <th>4</th>\n",
       "      <td>0.067797</td>\n",
       "      <td>0.041667</td>\n",
       "    </tr>\n",
       "    <tr>\n",
       "      <th>...</th>\n",
       "      <td>...</td>\n",
       "      <td>...</td>\n",
       "    </tr>\n",
       "    <tr>\n",
       "      <th>145</th>\n",
       "      <td>0.711864</td>\n",
       "      <td>0.916667</td>\n",
       "    </tr>\n",
       "    <tr>\n",
       "      <th>146</th>\n",
       "      <td>0.677966</td>\n",
       "      <td>0.750000</td>\n",
       "    </tr>\n",
       "    <tr>\n",
       "      <th>147</th>\n",
       "      <td>0.711864</td>\n",
       "      <td>0.791667</td>\n",
       "    </tr>\n",
       "    <tr>\n",
       "      <th>148</th>\n",
       "      <td>0.745763</td>\n",
       "      <td>0.916667</td>\n",
       "    </tr>\n",
       "    <tr>\n",
       "      <th>149</th>\n",
       "      <td>0.694915</td>\n",
       "      <td>0.708333</td>\n",
       "    </tr>\n",
       "  </tbody>\n",
       "</table>\n",
       "<p>150 rows × 2 columns</p>\n",
       "</div>"
      ],
      "text/plain": [
       "            2         3\n",
       "0    0.067797  0.041667\n",
       "1    0.067797  0.041667\n",
       "2    0.050847  0.041667\n",
       "3    0.084746  0.041667\n",
       "4    0.067797  0.041667\n",
       "..        ...       ...\n",
       "145  0.711864  0.916667\n",
       "146  0.677966  0.750000\n",
       "147  0.711864  0.791667\n",
       "148  0.745763  0.916667\n",
       "149  0.694915  0.708333\n",
       "\n",
       "[150 rows x 2 columns]"
      ]
     },
     "execution_count": 10,
     "metadata": {},
     "output_type": "execute_result"
    }
   ],
   "source": [
    "s_width = MinMaxScaler()\n",
    "s_width.fit(df[[3]])\n",
    "df[3] = s_width.transform(df[[3]])\n",
    "\n",
    "df"
   ]
  },
  {
   "cell_type": "code",
   "execution_count": 11,
   "id": "b5544d4d-fa96-4372-9cfc-9655b7c72642",
   "metadata": {
    "id": "b5544d4d-fa96-4372-9cfc-9655b7c72642"
   },
   "outputs": [
    {
     "name": "stderr",
     "output_type": "stream",
     "text": [
      "C:\\Users\\Ali Computers\\AppData\\Roaming\\Python\\Python312\\site-packages\\joblib\\externals\\loky\\backend\\context.py:136: UserWarning: Could not find the number of physical cores for the following reason:\n",
      "[WinError 2] The system cannot find the file specified\n",
      "Returning the number of logical cores instead. You can silence this warning by setting LOKY_MAX_CPU_COUNT to the number of cores you want to use.\n",
      "  warnings.warn(\n",
      "  File \"C:\\Users\\Ali Computers\\AppData\\Roaming\\Python\\Python312\\site-packages\\joblib\\externals\\loky\\backend\\context.py\", line 257, in _count_physical_cores\n",
      "    cpu_info = subprocess.run(\n",
      "               ^^^^^^^^^^^^^^^\n",
      "  File \"c:\\Program Files\\Python312\\Lib\\subprocess.py\", line 548, in run\n",
      "    with Popen(*popenargs, **kwargs) as process:\n",
      "         ^^^^^^^^^^^^^^^^^^^^^^^^^^^\n",
      "  File \"c:\\Program Files\\Python312\\Lib\\subprocess.py\", line 1026, in __init__\n",
      "    self._execute_child(args, executable, preexec_fn, close_fds,\n",
      "  File \"c:\\Program Files\\Python312\\Lib\\subprocess.py\", line 1538, in _execute_child\n",
      "    hp, ht, pid, tid = _winapi.CreateProcess(executable, args,\n",
      "                       ^^^^^^^^^^^^^^^^^^^^^^^^^^^^^^^^^^^^^^^\n"
     ]
    },
    {
     "data": {
      "text/plain": [
       "array([1, 1, 1, 1, 1, 1, 1, 1, 1, 1, 1, 1, 1, 1, 1, 1, 1, 1, 1, 1, 1, 1,\n",
       "       1, 1, 1, 1, 1, 1, 1, 1, 1, 1, 1, 1, 1, 1, 1, 1, 1, 1, 1, 1, 1, 1,\n",
       "       1, 1, 1, 1, 1, 1, 0, 0, 0, 0, 0, 0, 0, 0, 0, 0, 0, 0, 0, 0, 0, 0,\n",
       "       0, 0, 0, 0, 0, 0, 0, 0, 0, 0, 0, 0, 0, 0, 0, 0, 0, 0, 0, 0, 0, 0,\n",
       "       0, 0, 0, 0, 0, 0, 0, 0, 0, 0, 0, 0, 0, 0, 0, 0, 0, 0, 0, 0, 0, 0,\n",
       "       0, 0, 0, 0, 0, 0, 0, 0, 0, 0, 0, 0, 0, 0, 0, 0, 0, 0, 0, 0, 0, 0,\n",
       "       0, 0, 0, 0, 0, 0, 0, 0, 0, 0, 0, 0, 0, 0, 0, 0, 0, 0], dtype=int32)"
      ]
     },
     "execution_count": 11,
     "metadata": {},
     "output_type": "execute_result"
    }
   ],
   "source": [
    "model = KMeans(n_clusters=2)\n",
    "y_predicted = model.fit_predict(df[[2,3]])\n",
    "\n",
    "y_predicted"
   ]
  },
  {
   "cell_type": "code",
   "execution_count": 12,
   "id": "5b374b57-bf02-4dfa-bcf1-655b2e2cd1e4",
   "metadata": {
    "id": "5b374b57-bf02-4dfa-bcf1-655b2e2cd1e4"
   },
   "outputs": [
    {
     "data": {
      "text/html": [
       "<div>\n",
       "<style scoped>\n",
       "    .dataframe tbody tr th:only-of-type {\n",
       "        vertical-align: middle;\n",
       "    }\n",
       "\n",
       "    .dataframe tbody tr th {\n",
       "        vertical-align: top;\n",
       "    }\n",
       "\n",
       "    .dataframe thead th {\n",
       "        text-align: right;\n",
       "    }\n",
       "</style>\n",
       "<table border=\"1\" class=\"dataframe\">\n",
       "  <thead>\n",
       "    <tr style=\"text-align: right;\">\n",
       "      <th></th>\n",
       "      <th>2</th>\n",
       "      <th>3</th>\n",
       "      <th>predicted</th>\n",
       "    </tr>\n",
       "  </thead>\n",
       "  <tbody>\n",
       "    <tr>\n",
       "      <th>0</th>\n",
       "      <td>0.067797</td>\n",
       "      <td>0.041667</td>\n",
       "      <td>1</td>\n",
       "    </tr>\n",
       "    <tr>\n",
       "      <th>1</th>\n",
       "      <td>0.067797</td>\n",
       "      <td>0.041667</td>\n",
       "      <td>1</td>\n",
       "    </tr>\n",
       "    <tr>\n",
       "      <th>2</th>\n",
       "      <td>0.050847</td>\n",
       "      <td>0.041667</td>\n",
       "      <td>1</td>\n",
       "    </tr>\n",
       "    <tr>\n",
       "      <th>3</th>\n",
       "      <td>0.084746</td>\n",
       "      <td>0.041667</td>\n",
       "      <td>1</td>\n",
       "    </tr>\n",
       "    <tr>\n",
       "      <th>4</th>\n",
       "      <td>0.067797</td>\n",
       "      <td>0.041667</td>\n",
       "      <td>1</td>\n",
       "    </tr>\n",
       "    <tr>\n",
       "      <th>...</th>\n",
       "      <td>...</td>\n",
       "      <td>...</td>\n",
       "      <td>...</td>\n",
       "    </tr>\n",
       "    <tr>\n",
       "      <th>145</th>\n",
       "      <td>0.711864</td>\n",
       "      <td>0.916667</td>\n",
       "      <td>0</td>\n",
       "    </tr>\n",
       "    <tr>\n",
       "      <th>146</th>\n",
       "      <td>0.677966</td>\n",
       "      <td>0.750000</td>\n",
       "      <td>0</td>\n",
       "    </tr>\n",
       "    <tr>\n",
       "      <th>147</th>\n",
       "      <td>0.711864</td>\n",
       "      <td>0.791667</td>\n",
       "      <td>0</td>\n",
       "    </tr>\n",
       "    <tr>\n",
       "      <th>148</th>\n",
       "      <td>0.745763</td>\n",
       "      <td>0.916667</td>\n",
       "      <td>0</td>\n",
       "    </tr>\n",
       "    <tr>\n",
       "      <th>149</th>\n",
       "      <td>0.694915</td>\n",
       "      <td>0.708333</td>\n",
       "      <td>0</td>\n",
       "    </tr>\n",
       "  </tbody>\n",
       "</table>\n",
       "<p>150 rows × 3 columns</p>\n",
       "</div>"
      ],
      "text/plain": [
       "            2         3  predicted\n",
       "0    0.067797  0.041667          1\n",
       "1    0.067797  0.041667          1\n",
       "2    0.050847  0.041667          1\n",
       "3    0.084746  0.041667          1\n",
       "4    0.067797  0.041667          1\n",
       "..        ...       ...        ...\n",
       "145  0.711864  0.916667          0\n",
       "146  0.677966  0.750000          0\n",
       "147  0.711864  0.791667          0\n",
       "148  0.745763  0.916667          0\n",
       "149  0.694915  0.708333          0\n",
       "\n",
       "[150 rows x 3 columns]"
      ]
     },
     "execution_count": 12,
     "metadata": {},
     "output_type": "execute_result"
    }
   ],
   "source": [
    "df['predicted'] = y_predicted\n",
    "\n",
    "df"
   ]
  },
  {
   "cell_type": "code",
   "execution_count": 13,
   "id": "4dd7352a-adf2-49c1-8e8f-c4ebfc3c747e",
   "metadata": {
    "id": "4dd7352a-adf2-49c1-8e8f-c4ebfc3c747e"
   },
   "outputs": [
    {
     "name": "stdout",
     "output_type": "stream",
     "text": [
      "            2         3  predicted\n",
      "50   0.627119  0.541667          0\n",
      "51   0.593220  0.583333          0\n",
      "52   0.661017  0.583333          0\n",
      "53   0.508475  0.500000          0\n",
      "54   0.610169  0.583333          0\n",
      "..        ...       ...        ...\n",
      "145  0.711864  0.916667          0\n",
      "146  0.677966  0.750000          0\n",
      "147  0.711864  0.791667          0\n",
      "148  0.745763  0.916667          0\n",
      "149  0.694915  0.708333          0\n",
      "\n",
      "[100 rows x 3 columns]\n",
      "           2         3  predicted\n",
      "0   0.067797  0.041667          1\n",
      "1   0.067797  0.041667          1\n",
      "2   0.050847  0.041667          1\n",
      "3   0.084746  0.041667          1\n",
      "4   0.067797  0.041667          1\n",
      "5   0.118644  0.125000          1\n",
      "6   0.067797  0.083333          1\n",
      "7   0.084746  0.041667          1\n",
      "8   0.067797  0.041667          1\n",
      "9   0.084746  0.000000          1\n",
      "10  0.084746  0.041667          1\n",
      "11  0.101695  0.041667          1\n",
      "12  0.067797  0.000000          1\n",
      "13  0.016949  0.000000          1\n",
      "14  0.033898  0.041667          1\n",
      "15  0.084746  0.125000          1\n",
      "16  0.050847  0.125000          1\n",
      "17  0.067797  0.083333          1\n",
      "18  0.118644  0.083333          1\n",
      "19  0.084746  0.083333          1\n",
      "20  0.118644  0.041667          1\n",
      "21  0.084746  0.125000          1\n",
      "22  0.000000  0.041667          1\n",
      "23  0.118644  0.166667          1\n",
      "24  0.152542  0.041667          1\n",
      "25  0.101695  0.041667          1\n",
      "26  0.101695  0.125000          1\n",
      "27  0.084746  0.041667          1\n",
      "28  0.067797  0.041667          1\n",
      "29  0.101695  0.041667          1\n",
      "30  0.101695  0.041667          1\n",
      "31  0.084746  0.125000          1\n",
      "32  0.084746  0.000000          1\n",
      "33  0.067797  0.041667          1\n",
      "34  0.084746  0.041667          1\n",
      "35  0.033898  0.041667          1\n",
      "36  0.050847  0.041667          1\n",
      "37  0.067797  0.000000          1\n",
      "38  0.050847  0.041667          1\n",
      "39  0.084746  0.041667          1\n",
      "40  0.050847  0.083333          1\n",
      "41  0.050847  0.083333          1\n",
      "42  0.050847  0.041667          1\n",
      "43  0.101695  0.208333          1\n",
      "44  0.152542  0.125000          1\n",
      "45  0.067797  0.083333          1\n",
      "46  0.101695  0.041667          1\n",
      "47  0.067797  0.041667          1\n",
      "48  0.084746  0.041667          1\n",
      "49  0.067797  0.041667          1\n"
     ]
    }
   ],
   "source": [
    "df1 = df[df['predicted']==0]\n",
    "df2 = df[df['predicted']==1]\n",
    "\n",
    "print(df1)\n",
    "print(df2)"
   ]
  },
  {
   "cell_type": "code",
   "execution_count": 14,
   "id": "b20dbd2e-6f21-4c06-9490-233c598049a5",
   "metadata": {
    "id": "b20dbd2e-6f21-4c06-9490-233c598049a5"
   },
   "outputs": [
    {
     "data": {
      "image/png": "[encoded data removed]",
      "text/plain": [
       "<Figure size 640x480 with 1 Axes>"
      ]
     },
     "metadata": {},
     "output_type": "display_data"
    }
   ],
   "source": [
    "plt.scatter(df1[2], df1[3], color = 'red' , marker ='.')\n",
    "plt.scatter(df2[2], df2[3], color = 'black' , marker ='+')\n",
    "plt.show()"
   ]
  },
  {
   "cell_type": "code",
   "execution_count": 15,
   "id": "369f5875-f8a0-49a5-9368-6dc23e4740a5",
   "metadata": {
    "id": "369f5875-f8a0-49a5-9368-6dc23e4740a5"
   },
   "outputs": [
    {
     "data": {
      "text/html": [
       "<div>\n",
       "<style scoped>\n",
       "    .dataframe tbody tr th:only-of-type {\n",
       "        vertical-align: middle;\n",
       "    }\n",
       "\n",
       "    .dataframe tbody tr th {\n",
       "        vertical-align: top;\n",
       "    }\n",
       "\n",
       "    .dataframe thead th {\n",
       "        text-align: right;\n",
       "    }\n",
       "</style>\n",
       "<table border=\"1\" class=\"dataframe\">\n",
       "  <thead>\n",
       "    <tr style=\"text-align: right;\">\n",
       "      <th></th>\n",
       "      <th>0</th>\n",
       "      <th>1</th>\n",
       "      <th>2</th>\n",
       "      <th>3</th>\n",
       "    </tr>\n",
       "  </thead>\n",
       "  <tbody>\n",
       "    <tr>\n",
       "      <th>0</th>\n",
       "      <td>5.1</td>\n",
       "      <td>3.5</td>\n",
       "      <td>1.4</td>\n",
       "      <td>0.2</td>\n",
       "    </tr>\n",
       "    <tr>\n",
       "      <th>1</th>\n",
       "      <td>4.9</td>\n",
       "      <td>3.0</td>\n",
       "      <td>1.4</td>\n",
       "      <td>0.2</td>\n",
       "    </tr>\n",
       "    <tr>\n",
       "      <th>2</th>\n",
       "      <td>4.7</td>\n",
       "      <td>3.2</td>\n",
       "      <td>1.3</td>\n",
       "      <td>0.2</td>\n",
       "    </tr>\n",
       "    <tr>\n",
       "      <th>3</th>\n",
       "      <td>4.6</td>\n",
       "      <td>3.1</td>\n",
       "      <td>1.5</td>\n",
       "      <td>0.2</td>\n",
       "    </tr>\n",
       "    <tr>\n",
       "      <th>4</th>\n",
       "      <td>5.0</td>\n",
       "      <td>3.6</td>\n",
       "      <td>1.4</td>\n",
       "      <td>0.2</td>\n",
       "    </tr>\n",
       "    <tr>\n",
       "      <th>...</th>\n",
       "      <td>...</td>\n",
       "      <td>...</td>\n",
       "      <td>...</td>\n",
       "      <td>...</td>\n",
       "    </tr>\n",
       "    <tr>\n",
       "      <th>145</th>\n",
       "      <td>6.7</td>\n",
       "      <td>3.0</td>\n",
       "      <td>5.2</td>\n",
       "      <td>2.3</td>\n",
       "    </tr>\n",
       "    <tr>\n",
       "      <th>146</th>\n",
       "      <td>6.3</td>\n",
       "      <td>2.5</td>\n",
       "      <td>5.0</td>\n",
       "      <td>1.9</td>\n",
       "    </tr>\n",
       "    <tr>\n",
       "      <th>147</th>\n",
       "      <td>6.5</td>\n",
       "      <td>3.0</td>\n",
       "      <td>5.2</td>\n",
       "      <td>2.0</td>\n",
       "    </tr>\n",
       "    <tr>\n",
       "      <th>148</th>\n",
       "      <td>6.2</td>\n",
       "      <td>3.4</td>\n",
       "      <td>5.4</td>\n",
       "      <td>2.3</td>\n",
       "    </tr>\n",
       "    <tr>\n",
       "      <th>149</th>\n",
       "      <td>5.9</td>\n",
       "      <td>3.0</td>\n",
       "      <td>5.1</td>\n",
       "      <td>1.8</td>\n",
       "    </tr>\n",
       "  </tbody>\n",
       "</table>\n",
       "<p>150 rows × 4 columns</p>\n",
       "</div>"
      ],
      "text/plain": [
       "       0    1    2    3\n",
       "0    5.1  3.5  1.4  0.2\n",
       "1    4.9  3.0  1.4  0.2\n",
       "2    4.7  3.2  1.3  0.2\n",
       "3    4.6  3.1  1.5  0.2\n",
       "4    5.0  3.6  1.4  0.2\n",
       "..   ...  ...  ...  ...\n",
       "145  6.7  3.0  5.2  2.3\n",
       "146  6.3  2.5  5.0  1.9\n",
       "147  6.5  3.0  5.2  2.0\n",
       "148  6.2  3.4  5.4  2.3\n",
       "149  5.9  3.0  5.1  1.8\n",
       "\n",
       "[150 rows x 4 columns]"
      ]
     },
     "execution_count": 15,
     "metadata": {},
     "output_type": "execute_result"
    }
   ],
   "source": [
    "df = pd.DataFrame(iris.data)\n",
    "df\n"
   ]
  },
  {
   "cell_type": "code",
   "execution_count": 16,
   "id": "1a20f9b0-867d-41b3-9c19-8b91b7faddc0",
   "metadata": {
    "id": "1a20f9b0-867d-41b3-9c19-8b91b7faddc0"
   },
   "outputs": [
    {
     "data": {
      "text/plain": [
       "4"
      ]
     },
     "execution_count": 16,
     "metadata": {},
     "output_type": "execute_result"
    }
   ],
   "source": [
    "length = len(df.columns)\n",
    "length"
   ]
  },
  {
   "cell_type": "markdown",
   "id": "CRv0oJNZJJjD",
   "metadata": {
    "id": "CRv0oJNZJJjD"
   },
   "source": [
    "## 📉 Calculate SSE for Different Cluster Counts (Elbow Method)\n"
   ]
  },
  {
   "cell_type": "code",
   "execution_count": 17,
   "id": "aedd91e7-5854-42dc-a271-6b090e676373",
   "metadata": {
    "id": "aedd91e7-5854-42dc-a271-6b090e676373"
   },
   "outputs": [
    {
     "name": "stdout",
     "output_type": "stream",
     "text": [
      "[681.3706, 152.3479517603579, 78.8556658259773, 71.75951450992497]\n"
     ]
    }
   ],
   "source": [
    "sse =[]\n",
    "for i in range(1,length+1):\n",
    "    km = KMeans(n_clusters=i)\n",
    "    km.fit(df)\n",
    "    sse.append(km.inertia_)\n",
    "\n",
    "print(sse)"
   ]
  },
  {
   "cell_type": "markdown",
   "id": "-JYJ593KJcV1",
   "metadata": {
    "id": "-JYJ593KJcV1"
   },
   "source": [
    "## 🧠 What is the Elbow Method?\n",
    "\n",
    "The **Elbow Method** is a popular technique used to determine the **optimal number of clusters (K)** for KMeans clustering.\n",
    "\n",
    "### 📊 How It Works:\n",
    "1. **KMeans** is applied to the data for a range of values of K (e.g., 1 to 10).\n",
    "2. For each K, the **SSE (Sum of Squared Errors)** is computed, which represents the compactness of the clusters.\n",
    "   - This is also called **inertia_** in scikit-learn's KMeans.\n",
    "3. A line plot is made:  \n",
    "   - **X-axis**: number of clusters (K)  \n",
    "   - **Y-axis**: SSE value for each K\n",
    "\n",
    "### 🎯 Interpretation:\n",
    "- As the number of clusters increases, SSE naturally decreases.\n",
    "- At some point, the **rate of decrease sharply slows down**—forming an “elbow” in the plot.\n",
    "- The **K at this elbow point** is considered the optimal number of clusters because it balances **model complexity and clustering performance**.\n",
    "\n",
    "The method helps avoid overfitting while achieving good grouping of the data.\n"
   ]
  },
  {
   "cell_type": "code",
   "execution_count": 18,
   "id": "89cab3a7-f79f-45c1-b569-95a85a967ca1",
   "metadata": {
    "id": "89cab3a7-f79f-45c1-b569-95a85a967ca1"
   },
   "outputs": [
    {
     "data": {
      "image/png": "[encoded data removed]",
      "text/plain": [
       "<Figure size 640x480 with 1 Axes>"
      ]
     },
     "metadata": {},
     "output_type": "display_data"
    }
   ],
   "source": [
    "plt.plot(range(length),sse)\n",
    "plt.scatter(range(length),sse, marker ='.')\n",
    "plt.show()"
   ]
  },
  {
   "cell_type": "markdown",
   "id": "PRAEt63oLwXz",
   "metadata": {
    "id": "PRAEt63oLwXz"
   },
   "source": [
    "##What did you identify from the elbow method? Use elbow method to identify the number of clusters and try applying K-Means on that number of clusters."
   ]
  },
  {
   "cell_type": "code",
   "execution_count": 19,
   "id": "YxlTgrYgMCHx",
   "metadata": {
    "id": "YxlTgrYgMCHx"
   },
   "outputs": [
    {
     "data": {
      "text/plain": [
       "array([1, 1, 1, 1, 1, 1, 1, 1, 1, 1, 1, 1, 1, 1, 1, 1, 1, 1, 1, 1, 1, 1,\n",
       "       1, 1, 1, 1, 1, 1, 1, 1, 1, 1, 1, 1, 1, 1, 1, 1, 1, 1, 1, 1, 1, 1,\n",
       "       1, 1, 1, 1, 1, 1, 0, 0, 0, 0, 0, 0, 0, 0, 0, 0, 0, 0, 0, 0, 0, 0,\n",
       "       0, 0, 0, 0, 0, 0, 0, 0, 0, 0, 0, 2, 0, 0, 0, 0, 0, 2, 0, 0, 0, 0,\n",
       "       0, 0, 0, 0, 0, 0, 0, 0, 0, 0, 0, 0, 2, 2, 2, 2, 2, 2, 0, 2, 2, 2,\n",
       "       2, 2, 2, 2, 2, 2, 2, 2, 2, 0, 2, 2, 2, 2, 2, 2, 0, 2, 2, 2, 2, 2,\n",
       "       2, 2, 2, 2, 2, 2, 0, 2, 2, 2, 2, 2, 2, 2, 2, 2, 2, 2], dtype=int32)"
      ]
     },
     "execution_count": 19,
     "metadata": {},
     "output_type": "execute_result"
    }
   ],
   "source": [
    "#Code here\n",
    "model = KMeans(n_clusters=3)\n",
    "y_predicted = model.fit_predict(df[[2,3]])\n",
    "\n",
    "y_predicted"
   ]
  },
  {
   "cell_type": "code",
   "execution_count": 22,
   "id": "582353f6",
   "metadata": {},
   "outputs": [
    {
     "data": {
      "text/html": [
       "<div>\n",
       "<style scoped>\n",
       "    .dataframe tbody tr th:only-of-type {\n",
       "        vertical-align: middle;\n",
       "    }\n",
       "\n",
       "    .dataframe tbody tr th {\n",
       "        vertical-align: top;\n",
       "    }\n",
       "\n",
       "    .dataframe thead th {\n",
       "        text-align: right;\n",
       "    }\n",
       "</style>\n",
       "<table border=\"1\" class=\"dataframe\">\n",
       "  <thead>\n",
       "    <tr style=\"text-align: right;\">\n",
       "      <th></th>\n",
       "      <th>0</th>\n",
       "      <th>1</th>\n",
       "      <th>2</th>\n",
       "      <th>3</th>\n",
       "      <th>predicted</th>\n",
       "    </tr>\n",
       "  </thead>\n",
       "  <tbody>\n",
       "    <tr>\n",
       "      <th>0</th>\n",
       "      <td>5.1</td>\n",
       "      <td>3.5</td>\n",
       "      <td>1.4</td>\n",
       "      <td>0.2</td>\n",
       "      <td>1</td>\n",
       "    </tr>\n",
       "    <tr>\n",
       "      <th>1</th>\n",
       "      <td>4.9</td>\n",
       "      <td>3.0</td>\n",
       "      <td>1.4</td>\n",
       "      <td>0.2</td>\n",
       "      <td>1</td>\n",
       "    </tr>\n",
       "    <tr>\n",
       "      <th>2</th>\n",
       "      <td>4.7</td>\n",
       "      <td>3.2</td>\n",
       "      <td>1.3</td>\n",
       "      <td>0.2</td>\n",
       "      <td>1</td>\n",
       "    </tr>\n",
       "    <tr>\n",
       "      <th>3</th>\n",
       "      <td>4.6</td>\n",
       "      <td>3.1</td>\n",
       "      <td>1.5</td>\n",
       "      <td>0.2</td>\n",
       "      <td>1</td>\n",
       "    </tr>\n",
       "    <tr>\n",
       "      <th>4</th>\n",
       "      <td>5.0</td>\n",
       "      <td>3.6</td>\n",
       "      <td>1.4</td>\n",
       "      <td>0.2</td>\n",
       "      <td>1</td>\n",
       "    </tr>\n",
       "    <tr>\n",
       "      <th>...</th>\n",
       "      <td>...</td>\n",
       "      <td>...</td>\n",
       "      <td>...</td>\n",
       "      <td>...</td>\n",
       "      <td>...</td>\n",
       "    </tr>\n",
       "    <tr>\n",
       "      <th>145</th>\n",
       "      <td>6.7</td>\n",
       "      <td>3.0</td>\n",
       "      <td>5.2</td>\n",
       "      <td>2.3</td>\n",
       "      <td>2</td>\n",
       "    </tr>\n",
       "    <tr>\n",
       "      <th>146</th>\n",
       "      <td>6.3</td>\n",
       "      <td>2.5</td>\n",
       "      <td>5.0</td>\n",
       "      <td>1.9</td>\n",
       "      <td>2</td>\n",
       "    </tr>\n",
       "    <tr>\n",
       "      <th>147</th>\n",
       "      <td>6.5</td>\n",
       "      <td>3.0</td>\n",
       "      <td>5.2</td>\n",
       "      <td>2.0</td>\n",
       "      <td>2</td>\n",
       "    </tr>\n",
       "    <tr>\n",
       "      <th>148</th>\n",
       "      <td>6.2</td>\n",
       "      <td>3.4</td>\n",
       "      <td>5.4</td>\n",
       "      <td>2.3</td>\n",
       "      <td>2</td>\n",
       "    </tr>\n",
       "    <tr>\n",
       "      <th>149</th>\n",
       "      <td>5.9</td>\n",
       "      <td>3.0</td>\n",
       "      <td>5.1</td>\n",
       "      <td>1.8</td>\n",
       "      <td>2</td>\n",
       "    </tr>\n",
       "  </tbody>\n",
       "</table>\n",
       "<p>150 rows × 5 columns</p>\n",
       "</div>"
      ],
      "text/plain": [
       "       0    1    2    3  predicted\n",
       "0    5.1  3.5  1.4  0.2          1\n",
       "1    4.9  3.0  1.4  0.2          1\n",
       "2    4.7  3.2  1.3  0.2          1\n",
       "3    4.6  3.1  1.5  0.2          1\n",
       "4    5.0  3.6  1.4  0.2          1\n",
       "..   ...  ...  ...  ...        ...\n",
       "145  6.7  3.0  5.2  2.3          2\n",
       "146  6.3  2.5  5.0  1.9          2\n",
       "147  6.5  3.0  5.2  2.0          2\n",
       "148  6.2  3.4  5.4  2.3          2\n",
       "149  5.9  3.0  5.1  1.8          2\n",
       "\n",
       "[150 rows x 5 columns]"
      ]
     },
     "execution_count": 22,
     "metadata": {},
     "output_type": "execute_result"
    }
   ],
   "source": [
    "df['predicted'] = y_predicted\n",
    "\n",
    "df"
   ]
  },
  {
   "cell_type": "code",
   "execution_count": 23,
   "id": "c9b36bc8",
   "metadata": {},
   "outputs": [
    {
     "name": "stdout",
     "output_type": "stream",
     "text": [
      "       0    1    2    3  predicted\n",
      "50   7.0  3.2  4.7  1.4          0\n",
      "51   6.4  3.2  4.5  1.5          0\n",
      "52   6.9  3.1  4.9  1.5          0\n",
      "53   5.5  2.3  4.0  1.3          0\n",
      "54   6.5  2.8  4.6  1.5          0\n",
      "55   5.7  2.8  4.5  1.3          0\n",
      "56   6.3  3.3  4.7  1.6          0\n",
      "57   4.9  2.4  3.3  1.0          0\n",
      "58   6.6  2.9  4.6  1.3          0\n",
      "59   5.2  2.7  3.9  1.4          0\n",
      "60   5.0  2.0  3.5  1.0          0\n",
      "61   5.9  3.0  4.2  1.5          0\n",
      "62   6.0  2.2  4.0  1.0          0\n",
      "63   6.1  2.9  4.7  1.4          0\n",
      "64   5.6  2.9  3.6  1.3          0\n",
      "65   6.7  3.1  4.4  1.4          0\n",
      "66   5.6  3.0  4.5  1.5          0\n",
      "67   5.8  2.7  4.1  1.0          0\n",
      "68   6.2  2.2  4.5  1.5          0\n",
      "69   5.6  2.5  3.9  1.1          0\n",
      "70   5.9  3.2  4.8  1.8          0\n",
      "71   6.1  2.8  4.0  1.3          0\n",
      "72   6.3  2.5  4.9  1.5          0\n",
      "73   6.1  2.8  4.7  1.2          0\n",
      "74   6.4  2.9  4.3  1.3          0\n",
      "75   6.6  3.0  4.4  1.4          0\n",
      "76   6.8  2.8  4.8  1.4          0\n",
      "78   6.0  2.9  4.5  1.5          0\n",
      "79   5.7  2.6  3.5  1.0          0\n",
      "80   5.5  2.4  3.8  1.1          0\n",
      "81   5.5  2.4  3.7  1.0          0\n",
      "82   5.8  2.7  3.9  1.2          0\n",
      "84   5.4  3.0  4.5  1.5          0\n",
      "85   6.0  3.4  4.5  1.6          0\n",
      "86   6.7  3.1  4.7  1.5          0\n",
      "87   6.3  2.3  4.4  1.3          0\n",
      "88   5.6  3.0  4.1  1.3          0\n",
      "89   5.5  2.5  4.0  1.3          0\n",
      "90   5.5  2.6  4.4  1.2          0\n",
      "91   6.1  3.0  4.6  1.4          0\n",
      "92   5.8  2.6  4.0  1.2          0\n",
      "93   5.0  2.3  3.3  1.0          0\n",
      "94   5.6  2.7  4.2  1.3          0\n",
      "95   5.7  3.0  4.2  1.2          0\n",
      "96   5.7  2.9  4.2  1.3          0\n",
      "97   6.2  2.9  4.3  1.3          0\n",
      "98   5.1  2.5  3.0  1.1          0\n",
      "99   5.7  2.8  4.1  1.3          0\n",
      "106  4.9  2.5  4.5  1.7          0\n",
      "119  6.0  2.2  5.0  1.5          0\n",
      "126  6.2  2.8  4.8  1.8          0\n",
      "138  6.0  3.0  4.8  1.8          0\n",
      "      0    1    2    3  predicted\n",
      "0   5.1  3.5  1.4  0.2          1\n",
      "1   4.9  3.0  1.4  0.2          1\n",
      "2   4.7  3.2  1.3  0.2          1\n",
      "3   4.6  3.1  1.5  0.2          1\n",
      "4   5.0  3.6  1.4  0.2          1\n",
      "5   5.4  3.9  1.7  0.4          1\n",
      "6   4.6  3.4  1.4  0.3          1\n",
      "7   5.0  3.4  1.5  0.2          1\n",
      "8   4.4  2.9  1.4  0.2          1\n",
      "9   4.9  3.1  1.5  0.1          1\n",
      "10  5.4  3.7  1.5  0.2          1\n",
      "11  4.8  3.4  1.6  0.2          1\n",
      "12  4.8  3.0  1.4  0.1          1\n",
      "13  4.3  3.0  1.1  0.1          1\n",
      "14  5.8  4.0  1.2  0.2          1\n",
      "15  5.7  4.4  1.5  0.4          1\n",
      "16  5.4  3.9  1.3  0.4          1\n",
      "17  5.1  3.5  1.4  0.3          1\n",
      "18  5.7  3.8  1.7  0.3          1\n",
      "19  5.1  3.8  1.5  0.3          1\n",
      "20  5.4  3.4  1.7  0.2          1\n",
      "21  5.1  3.7  1.5  0.4          1\n",
      "22  4.6  3.6  1.0  0.2          1\n",
      "23  5.1  3.3  1.7  0.5          1\n",
      "24  4.8  3.4  1.9  0.2          1\n",
      "25  5.0  3.0  1.6  0.2          1\n",
      "26  5.0  3.4  1.6  0.4          1\n",
      "27  5.2  3.5  1.5  0.2          1\n",
      "28  5.2  3.4  1.4  0.2          1\n",
      "29  4.7  3.2  1.6  0.2          1\n",
      "30  4.8  3.1  1.6  0.2          1\n",
      "31  5.4  3.4  1.5  0.4          1\n",
      "32  5.2  4.1  1.5  0.1          1\n",
      "33  5.5  4.2  1.4  0.2          1\n",
      "34  4.9  3.1  1.5  0.2          1\n",
      "35  5.0  3.2  1.2  0.2          1\n",
      "36  5.5  3.5  1.3  0.2          1\n",
      "37  4.9  3.6  1.4  0.1          1\n",
      "38  4.4  3.0  1.3  0.2          1\n",
      "39  5.1  3.4  1.5  0.2          1\n",
      "40  5.0  3.5  1.3  0.3          1\n",
      "41  4.5  2.3  1.3  0.3          1\n",
      "42  4.4  3.2  1.3  0.2          1\n",
      "43  5.0  3.5  1.6  0.6          1\n",
      "44  5.1  3.8  1.9  0.4          1\n",
      "45  4.8  3.0  1.4  0.3          1\n",
      "46  5.1  3.8  1.6  0.2          1\n",
      "47  4.6  3.2  1.4  0.2          1\n",
      "48  5.3  3.7  1.5  0.2          1\n",
      "49  5.0  3.3  1.4  0.2          1\n",
      "       0    1    2    3  predicted\n",
      "77   6.7  3.0  5.0  1.7          2\n",
      "83   6.0  2.7  5.1  1.6          2\n",
      "100  6.3  3.3  6.0  2.5          2\n",
      "101  5.8  2.7  5.1  1.9          2\n",
      "102  7.1  3.0  5.9  2.1          2\n",
      "103  6.3  2.9  5.6  1.8          2\n",
      "104  6.5  3.0  5.8  2.2          2\n",
      "105  7.6  3.0  6.6  2.1          2\n",
      "107  7.3  2.9  6.3  1.8          2\n",
      "108  6.7  2.5  5.8  1.8          2\n",
      "109  7.2  3.6  6.1  2.5          2\n",
      "110  6.5  3.2  5.1  2.0          2\n",
      "111  6.4  2.7  5.3  1.9          2\n",
      "112  6.8  3.0  5.5  2.1          2\n",
      "113  5.7  2.5  5.0  2.0          2\n",
      "114  5.8  2.8  5.1  2.4          2\n",
      "115  6.4  3.2  5.3  2.3          2\n",
      "116  6.5  3.0  5.5  1.8          2\n",
      "117  7.7  3.8  6.7  2.2          2\n",
      "118  7.7  2.6  6.9  2.3          2\n",
      "120  6.9  3.2  5.7  2.3          2\n",
      "121  5.6  2.8  4.9  2.0          2\n",
      "122  7.7  2.8  6.7  2.0          2\n",
      "123  6.3  2.7  4.9  1.8          2\n",
      "124  6.7  3.3  5.7  2.1          2\n",
      "125  7.2  3.2  6.0  1.8          2\n",
      "127  6.1  3.0  4.9  1.8          2\n",
      "128  6.4  2.8  5.6  2.1          2\n",
      "129  7.2  3.0  5.8  1.6          2\n",
      "130  7.4  2.8  6.1  1.9          2\n",
      "131  7.9  3.8  6.4  2.0          2\n",
      "132  6.4  2.8  5.6  2.2          2\n",
      "133  6.3  2.8  5.1  1.5          2\n",
      "134  6.1  2.6  5.6  1.4          2\n",
      "135  7.7  3.0  6.1  2.3          2\n",
      "136  6.3  3.4  5.6  2.4          2\n",
      "137  6.4  3.1  5.5  1.8          2\n",
      "139  6.9  3.1  5.4  2.1          2\n",
      "140  6.7  3.1  5.6  2.4          2\n",
      "141  6.9  3.1  5.1  2.3          2\n",
      "142  5.8  2.7  5.1  1.9          2\n",
      "143  6.8  3.2  5.9  2.3          2\n",
      "144  6.7  3.3  5.7  2.5          2\n",
      "145  6.7  3.0  5.2  2.3          2\n",
      "146  6.3  2.5  5.0  1.9          2\n",
      "147  6.5  3.0  5.2  2.0          2\n",
      "148  6.2  3.4  5.4  2.3          2\n",
      "149  5.9  3.0  5.1  1.8          2\n"
     ]
    }
   ],
   "source": [
    "df1 = df[df['predicted']==0]\n",
    "df2 = df[df['predicted']==1]\n",
    "df3 = df[df['predicted']==2]\n",
    "\n",
    "print(df1)\n",
    "print(df2)\n",
    "print(df3)"
   ]
  },
  {
   "cell_type": "code",
   "execution_count": 24,
   "id": "c6f79d06",
   "metadata": {},
   "outputs": [
    {
     "data": {
      "image/png": "[encoded data removed]",
      "text/plain": [
       "<Figure size 640x480 with 1 Axes>"
      ]
     },
     "metadata": {},
     "output_type": "display_data"
    }
   ],
   "source": [
    "plt.scatter(df1[2], df1[3], color = 'red' , marker ='.')\n",
    "plt.scatter(df2[2], df2[3], color = 'black' , marker ='+')\n",
    "plt.scatter(df3[2], df3[3], color = 'green' , marker ='x')\n",
    "plt.show()"
   ]
  },
  {
   "cell_type": "code",
   "execution_count": null,
   "id": "81cc7f62",
   "metadata": {},
   "outputs": [],
   "source": []
  }
 ],
 "metadata": {
  "colab": {
   "provenance": []
  },
  "kernelspec": {
   "display_name": "Python 3",
   "language": "python",
   "name": "python3"
  },
  "language_info": {
   "codemirror_mode": {
    "name": "ipython",
    "version": 3
   },
   "file_extension": ".py",
   "mimetype": "text/x-python",
   "name": "python",
   "nbconvert_exporter": "python",
   "pygments_lexer": "ipython3",
   "version": "3.12.3"
  }
 },
 "nbformat": 4,
 "nbformat_minor": 5
}
